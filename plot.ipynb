{
 "cells": [
  {
   "cell_type": "code",
   "execution_count": null,
   "metadata": {},
   "outputs": [],
   "source": [
    "import redis\n",
    "import numpy as np\n",
    "r = redis.Redis(host='localhost', port=6379, db=0)\n",
    "dev = 'computer:ff:ff:ff:ff:ff:ff'"
   ]
  },
  {
   "cell_type": "code",
   "execution_count": null,
   "metadata": {},
   "outputs": [],
   "source": [
    "cpu = np.array(r.json().get(dev, 'cpu_usage')).transpose(1, 0)\n",
    "mem = np.array(r.json().get(dev, 'mem_usage')).transpose(1, 0)\n",
    "disk_read = np.array(r.json().get(dev, 'disk_read')).transpose(1, 0)\n",
    "disk_write = np.array(r.json().get(dev, 'disk_write')).transpose(1, 0)\n",
    "net = np.array(r.json().get(dev, 'net_capture')).transpose(1, 0)"
   ]
  },
  {
   "cell_type": "code",
   "execution_count": null,
   "metadata": {},
   "outputs": [],
   "source": [
    "from bokeh.plotting import figure, show\n",
    "from bokeh.io import output_notebook\n",
    "from bokeh.resources import INLINE\n",
    "output_notebook(INLINE)"
   ]
  },
  {
   "cell_type": "code",
   "execution_count": null,
   "metadata": {},
   "outputs": [],
   "source": [
    "p = figure(title=\"Simple line example\", x_axis_label='Time (s)', y_axis_label='y')\n",
    "p.line(*mem, color='red' , legend_label=\"cpu\" , line_width=2)\n",
    "show(p)"
   ]
  },
  {
   "cell_type": "code",
   "execution_count": null,
   "metadata": {},
   "outputs": [],
   "source": [
    "for i in range(1,4):\n",
    "    p = figure(title=f\"Simple line example {i}\", x_axis_label='Time (s)', y_axis_label='y')\n",
    "    nfr, nfw = max(disk_read[i])-min(disk_read[i]), max(disk_write[i])-min(disk_write[i])\n",
    "    p.line((disk_read[0] -disk_read[0,0])/1e3, (disk_read[i]  -min(disk_read[i] ))/nfr, color='red' , legend_label=f\"disk_read[{i}]\" , line_width=2)\n",
    "    p.line((disk_write[0]-disk_read[0,0])/1e3, (disk_write[i] -min(disk_write[i]))/nfw, color='blue', legend_label=f\"disk_write[{i}]\", line_width=2)\n",
    "    show(p)\n"
   ]
  },
  {
   "cell_type": "code",
   "execution_count": null,
   "metadata": {},
   "outputs": [],
   "source": []
  }
 ],
 "metadata": {
  "kernelspec": {
   "display_name": "env",
   "language": "python",
   "name": "python3"
  },
  "language_info": {
   "codemirror_mode": {
    "name": "ipython",
    "version": 3
   },
   "file_extension": ".py",
   "mimetype": "text/x-python",
   "name": "python",
   "nbconvert_exporter": "python",
   "pygments_lexer": "ipython3",
   "version": "3.10.12"
  }
 },
 "nbformat": 4,
 "nbformat_minor": 2
}
