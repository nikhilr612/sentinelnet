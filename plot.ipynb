{
 "cells": [
  {
   "cell_type": "code",
   "execution_count": null,
   "metadata": {},
   "outputs": [],
   "source": [
    "import redis\n",
    "import numpy as np\n",
    "import pandas as pd\n",
    "r = redis.Redis(host='localhost', port=6379, db=0)\n",
    "dev = 'computer:ff:ff:ff:ff:ff:ff'\n",
    "attr = 'mem_usage'\n",
    "nrows = None"
   ]
  },
  {
   "cell_type": "code",
   "execution_count": null,
   "metadata": {},
   "outputs": [],
   "source": [
    "cpu = np.array(r.json().get(dev, 'cpu_usage')).transpose(1, 0)\n",
    "mem = np.array(r.json().get(dev, 'mem_usage')).transpose(1, 0)\n",
    "net = np.array(r.json().get(dev, 'net_capture')).transpose(1, 0)\n",
    "disk_read = np.array(r.json().get(dev, 'disk_read')).transpose(1, 0)\n",
    "disk_write = np.array(r.json().get(dev, 'disk_write')).transpose(1, 0)"
   ]
  },
  {
   "cell_type": "code",
   "execution_count": null,
   "metadata": {},
   "outputs": [],
   "source": [
    "data = np.array(r.json().get(dev, attr)[:nrows]) if nrows is not None else np.array(r.json().get(dev, attr))"
   ]
  },
  {
   "cell_type": "code",
   "execution_count": null,
   "metadata": {},
   "outputs": [],
   "source": [
    "def load_data(dev, attr, nrows=None):\n",
    "    data = np.array(r.json().get(dev, attr)[:nrows]) if nrows is not None else np.array(r.json().get(dev, attr))\n",
    "    data = data.transpose((0,1))\n",
    "    if attr.startswith('disk'):\n",
    "        df = pd.DataFrame(data, columns=['timestamp', 'count', 'bytes', 'time'])\n",
    "    else:\n",
    "        df = pd.DataFrame(data, columns=['timestamp', attr])\n",
    "    df['timestamp'] = pd.to_numeric(df['timestamp']).astype(np.int64)\n",
    "    df = df.drop_duplicates(subset=['timestamp'])\n",
    "    index_type = df.dtypes[df.columns[0]]\n",
    "    df = df.set_index(df.columns[0])\n",
    "    df.index = pd.to_datetime(df.index.values, unit=\"ms\" if index_type in [np.int32, np.int64] else None)\n",
    "    return df"
   ]
  },
  {
   "cell_type": "code",
   "execution_count": null,
   "metadata": {},
   "outputs": [],
   "source": []
  }
 ],
 "metadata": {
  "kernelspec": {
   "display_name": "env",
   "language": "python",
   "name": "python3"
  },
  "language_info": {
   "codemirror_mode": {
    "name": "ipython",
    "version": 3
   },
   "file_extension": ".py",
   "mimetype": "text/x-python",
   "name": "python",
   "nbconvert_exporter": "python",
   "pygments_lexer": "ipython3",
   "version": "3.10.12"
  }
 },
 "nbformat": 4,
 "nbformat_minor": 2
}
